{
  "nbformat": 4,
  "nbformat_minor": 0,
  "metadata": {
    "colab": {
      "provenance": []
    },
    "kernelspec": {
      "name": "python3",
      "display_name": "Python 3"
    },
    "language_info": {
      "name": "python"
    }
  },
  "cells": [
    {
      "cell_type": "markdown",
      "source": [
        " Elaborar un modelo predictivo aplicando el algoritmo clasificador SVM\n",
        "para resolver un problema de clasificación utilizando lenguaje Python."
      ],
      "metadata": {
        "id": "Ew3Sev-9HG93"
      }
    },
    {
      "cell_type": "markdown",
      "source": [
        "Con el fin de clasificar las distintas actividades que puede realizar una\n",
        "persona, se realizó un experimento a un grupo de 30 voluntarios dentro de\n",
        "un grupo de edad de 19 a 48 años. Cada persona realizó seis actividades\n",
        "(CAMINAR, CAMINAR POR LAS ESCALERAS, BAJAR LAS ESCALERAS,\n",
        "SENTARSE, DE PIE, RECOSTARSE) con un smartphone (Samsung Galaxy S II)\n",
        "conectado en su cintura. Usando el acelerómetro y giroscopio integrados en\n",
        "el smartphone, se tienen la siguiente data:\n",
        "\n",
        "• Aceleración triaxial del acelerómetro (aceleración total) y la\n",
        "aceleración corporal estimada.\n",
        "\n",
        "• Velocidad angular triaxial del giroscopio.\n",
        "\n",
        "• Variables de dominio de tiempo y frecuencia.\n",
        "\n",
        "• Su etiqueta de actividad.\n",
        "\n",
        "• Un identificador del sujeto que realizó el experimento.\n",
        "\n",
        "El conjunto de datos obtenido se ha dividido aleatoriamente en dos\n",
        "conjuntos (train y test), donde se seleccionó al 70% de los voluntarios para\n",
        "generar los datos de entrenamiento y al 30% los datos de la prueba.\n",
        "Estos datos se encuentran en los siguientes links:\n",
        "\n",
        "train: https://raw.githubusercontent.com/natjulian/Contribuci-n\u0002Diplomado-Data-Science-UC\u00022021/main/Bases%20de%20datos%20Clases/Activity/train.csv\n",
        "\n",
        "\n",
        "test: https://raw.githubusercontent.com/natjulian/Contribuci-n-Diplomado\u0002Data-Science-UC\u00022021/main/Bases%20de%20datos%20Clases/Activity/test.csv\n",
        "\n",
        "a) Cargue los set de datos de entrenamiento y prueba. ¿Cuáles son las\n",
        "dimensiones de estos set de datos?"
      ],
      "metadata": {
        "id": "AwjvJA6sHIG-"
      }
    },
    {
      "cell_type": "code",
      "execution_count": 1,
      "metadata": {
        "id": "fbhYMgeG8_qH"
      },
      "outputs": [],
      "source": [
        "import pandas as pd\n",
        "from sklearn.preprocessing import LabelEncoder, StandardScaler\n",
        "from sklearn.svm import SVC # Support Vector Classifier | Support Vector Regressor\n",
        "from sklearn.model_selection import GridSearchCV # Busqueda de hiperparametros\n",
        "import matplotlib.pyplot as plt\n"
      ]
    },
    {
      "cell_type": "markdown",
      "source": [
        "a) Cargue los set de datos de entrenamiento y prueba. ¿Cuáles son las\n",
        "dimensiones de estos set de datos?"
      ],
      "metadata": {
        "id": "hlqR-VxleFVG"
      }
    },
    {
      "cell_type": "code",
      "source": [
        "#Carga de los set de datos de entrenamiento y prueba\n",
        "train_data = pd.read_csv('train.csv')\n",
        "test_data = pd.read_csv('test.csv')\n",
        "\n",
        "print(train_data.columns)\n",
        "print(test_data.columns)\n"
      ],
      "metadata": {
        "colab": {
          "base_uri": "https://localhost:8080/"
        },
        "id": "d3AgOZ6oHo-0",
        "outputId": "1d465b3a-c78f-454e-860d-67eadb60ff51"
      },
      "execution_count": 2,
      "outputs": [
        {
          "output_type": "stream",
          "name": "stdout",
          "text": [
            "Index(['tBodyAcc-mean()-X', 'tBodyAcc-mean()-Y', 'tBodyAcc-mean()-Z',\n",
            "       'tBodyAcc-std()-X', 'tBodyAcc-std()-Y', 'tBodyAcc-std()-Z',\n",
            "       'tBodyAcc-mad()-X', 'tBodyAcc-mad()-Y', 'tBodyAcc-mad()-Z',\n",
            "       'tBodyAcc-max()-X',\n",
            "       ...\n",
            "       'fBodyBodyGyroJerkMag-kurtosis()', 'angle(tBodyAccMean,gravity)',\n",
            "       'angle(tBodyAccJerkMean),gravityMean)',\n",
            "       'angle(tBodyGyroMean,gravityMean)',\n",
            "       'angle(tBodyGyroJerkMean,gravityMean)', 'angle(X,gravityMean)',\n",
            "       'angle(Y,gravityMean)', 'angle(Z,gravityMean)', 'subject', 'Activity'],\n",
            "      dtype='object', length=563)\n",
            "Index(['tBodyAcc-mean()-X', 'tBodyAcc-mean()-Y', 'tBodyAcc-mean()-Z',\n",
            "       'tBodyAcc-std()-X', 'tBodyAcc-std()-Y', 'tBodyAcc-std()-Z',\n",
            "       'tBodyAcc-mad()-X', 'tBodyAcc-mad()-Y', 'tBodyAcc-mad()-Z',\n",
            "       'tBodyAcc-max()-X',\n",
            "       ...\n",
            "       'fBodyBodyGyroJerkMag-kurtosis()', 'angle(tBodyAccMean,gravity)',\n",
            "       'angle(tBodyAccJerkMean),gravityMean)',\n",
            "       'angle(tBodyGyroMean,gravityMean)',\n",
            "       'angle(tBodyGyroJerkMean,gravityMean)', 'angle(X,gravityMean)',\n",
            "       'angle(Y,gravityMean)', 'angle(Z,gravityMean)', 'subject', 'Activity'],\n",
            "      dtype='object', length=563)\n"
          ]
        }
      ]
    },
    {
      "cell_type": "code",
      "source": [
        "# Mostramos los datos\n",
        "print('Datos de test:')\n",
        "print(test_data.head())\n",
        "print('Datos de train:')\n",
        "print(train_data.head())"
      ],
      "metadata": {
        "colab": {
          "base_uri": "https://localhost:8080/"
        },
        "id": "cxxZujhvehpw",
        "outputId": "02fb7df3-a077-4ab2-a514-27d0be9dab22"
      },
      "execution_count": 32,
      "outputs": [
        {
          "output_type": "stream",
          "name": "stdout",
          "text": [
            "Datos de test:\n",
            "   tBodyAcc-mean()-X  tBodyAcc-mean()-Y  tBodyAcc-mean()-Z  tBodyAcc-std()-X  \\\n",
            "0           0.257178          -0.023285          -0.014654         -0.938404   \n",
            "1           0.286027          -0.013163          -0.119083         -0.975415   \n",
            "2           0.275485          -0.026050          -0.118152         -0.993819   \n",
            "3           0.270298          -0.032614          -0.117520         -0.994743   \n",
            "4           0.274833          -0.027848          -0.129527         -0.993852   \n",
            "\n",
            "   tBodyAcc-std()-Y  tBodyAcc-std()-Z  tBodyAcc-mad()-X  tBodyAcc-mad()-Y  \\\n",
            "0         -0.920091         -0.667683         -0.952501         -0.925249   \n",
            "1         -0.967458         -0.944958         -0.986799         -0.968401   \n",
            "2         -0.969926         -0.962748         -0.994403         -0.970735   \n",
            "3         -0.973268         -0.967091         -0.995274         -0.974471   \n",
            "4         -0.967445         -0.978295         -0.994111         -0.965953   \n",
            "\n",
            "   tBodyAcc-mad()-Z  tBodyAcc-max()-X  ...  fBodyBodyGyroJerkMag-kurtosis()  \\\n",
            "0         -0.674302         -0.894088  ...                        -0.705974   \n",
            "1         -0.945823         -0.894088  ...                        -0.594944   \n",
            "2         -0.963483         -0.939260  ...                        -0.640736   \n",
            "3         -0.968897         -0.938610  ...                        -0.736124   \n",
            "4         -0.977346         -0.938610  ...                        -0.846595   \n",
            "\n",
            "   angle(tBodyAccMean,gravity)  angle(tBodyAccJerkMean),gravityMean)  \\\n",
            "0                     0.006462                              0.162920   \n",
            "1                    -0.083495                              0.017500   \n",
            "2                    -0.034956                              0.202302   \n",
            "3                    -0.017067                              0.154438   \n",
            "4                    -0.002223                             -0.040046   \n",
            "\n",
            "   angle(tBodyGyroMean,gravityMean)  angle(tBodyGyroJerkMean,gravityMean)  \\\n",
            "0                         -0.825886                              0.271151   \n",
            "1                         -0.434375                              0.920593   \n",
            "2                          0.064103                              0.145068   \n",
            "3                          0.340134                              0.296407   \n",
            "4                          0.736715                             -0.118545   \n",
            "\n",
            "   angle(X,gravityMean)  angle(Y,gravityMean)  angle(Z,gravityMean)  subject  \\\n",
            "0             -0.720009              0.276801             -0.057978        2   \n",
            "1             -0.698091              0.281343             -0.083898        2   \n",
            "2             -0.702771              0.280083             -0.079346        2   \n",
            "3             -0.698954              0.284114             -0.077108        2   \n",
            "4             -0.692245              0.290722             -0.073857        2   \n",
            "\n",
            "   Activity  \n",
            "0  STANDING  \n",
            "1  STANDING  \n",
            "2  STANDING  \n",
            "3  STANDING  \n",
            "4  STANDING  \n",
            "\n",
            "[5 rows x 563 columns]\n",
            "Datos de train:\n",
            "   tBodyAcc-mean()-X  tBodyAcc-mean()-Y  tBodyAcc-mean()-Z  tBodyAcc-std()-X  \\\n",
            "0           0.288585          -0.020294          -0.132905         -0.995279   \n",
            "1           0.278419          -0.016411          -0.123520         -0.998245   \n",
            "2           0.279653          -0.019467          -0.113462         -0.995380   \n",
            "3           0.279174          -0.026201          -0.123283         -0.996091   \n",
            "4           0.276629          -0.016570          -0.115362         -0.998139   \n",
            "\n",
            "   tBodyAcc-std()-Y  tBodyAcc-std()-Z  tBodyAcc-mad()-X  tBodyAcc-mad()-Y  \\\n",
            "0         -0.983111         -0.913526         -0.995112         -0.983185   \n",
            "1         -0.975300         -0.960322         -0.998807         -0.974914   \n",
            "2         -0.967187         -0.978944         -0.996520         -0.963668   \n",
            "3         -0.983403         -0.990675         -0.997099         -0.982750   \n",
            "4         -0.980817         -0.990482         -0.998321         -0.979672   \n",
            "\n",
            "   tBodyAcc-mad()-Z  tBodyAcc-max()-X  ...  fBodyBodyGyroJerkMag-kurtosis()  \\\n",
            "0         -0.923527         -0.934724  ...                        -0.710304   \n",
            "1         -0.957686         -0.943068  ...                        -0.861499   \n",
            "2         -0.977469         -0.938692  ...                        -0.760104   \n",
            "3         -0.989302         -0.938692  ...                        -0.482845   \n",
            "4         -0.990441         -0.942469  ...                        -0.699205   \n",
            "\n",
            "   angle(tBodyAccMean,gravity)  angle(tBodyAccJerkMean),gravityMean)  \\\n",
            "0                    -0.112754                              0.030400   \n",
            "1                     0.053477                             -0.007435   \n",
            "2                    -0.118559                              0.177899   \n",
            "3                    -0.036788                             -0.012892   \n",
            "4                     0.123320                              0.122542   \n",
            "\n",
            "   angle(tBodyGyroMean,gravityMean)  angle(tBodyGyroJerkMean,gravityMean)  \\\n",
            "0                         -0.464761                             -0.018446   \n",
            "1                         -0.732626                              0.703511   \n",
            "2                          0.100699                              0.808529   \n",
            "3                          0.640011                             -0.485366   \n",
            "4                          0.693578                             -0.615971   \n",
            "\n",
            "   angle(X,gravityMean)  angle(Y,gravityMean)  angle(Z,gravityMean)  subject  \\\n",
            "0             -0.841247              0.179941             -0.058627      1.0   \n",
            "1             -0.844788              0.180289             -0.054317      1.0   \n",
            "2             -0.848933              0.180637             -0.049118      1.0   \n",
            "3             -0.848649              0.181935             -0.047663      1.0   \n",
            "4             -0.847865              0.185151             -0.043892      1.0   \n",
            "\n",
            "   Activity  \n",
            "0  STANDING  \n",
            "1  STANDING  \n",
            "2  STANDING  \n",
            "3  STANDING  \n",
            "4  STANDING  \n",
            "\n",
            "[5 rows x 563 columns]\n"
          ]
        }
      ]
    },
    {
      "cell_type": "code",
      "source": [
        "# Mostramos las dimensiones de los datos\n",
        "print('Dimensiones de test:', test_data.shape)\n",
        "print('Dimensiones de train:', train_data.shape)"
      ],
      "metadata": {
        "colab": {
          "base_uri": "https://localhost:8080/"
        },
        "id": "ZyvsUq18eWIL",
        "outputId": "81ba4236-b6fc-4d63-f682-1ca6d1383853"
      },
      "execution_count": 29,
      "outputs": [
        {
          "output_type": "stream",
          "name": "stdout",
          "text": [
            "Dimensiones de test: (2947, 563)\n",
            "Dimensiones de train: (4805, 563)\n"
          ]
        }
      ]
    },
    {
      "cell_type": "markdown",
      "source": [
        "b) Estudie la cantidad de registros que hay en cada actividad en el set de\n",
        "entrenamiento. Para esto, una opción es utilizar la función de pandas\n",
        "crosstab(index=columna, columns=\"count\"). ¿Cómo se encuentran repartidas\n",
        "las Actividades? ¿Existe algún desbalance en las categorías? (realice un\n",
        "gráfico que acompañe su análisis) Comente."
      ],
      "metadata": {
        "id": "dDEcFSJ-ettp"
      }
    },
    {
      "cell_type": "code",
      "source": [
        "#Estudiamos la cantidad de registros que hay en cada actividad en el set de entrenamiento\n",
        "activity_counts = train_data['Activity'].value_counts()\n",
        "print(\"Cantidad de registros por actividad en el set de entrenamiento:\")\n",
        "print(activity_counts)\n",
        "\n",
        "# Obtenemos el recuento de cada actividad\n",
        "activity_counts = train_data['Activity'].value_counts()\n",
        "\n",
        "# Creamos un gráfico de barras para visualizar la distribución de actividades\n",
        "plt.figure(figsize=(10, 6))\n",
        "activity_counts.plot(kind='bar')\n",
        "plt.title('Distribución de actividades en el conjunto de entrenamiento')\n",
        "plt.xlabel('Actividad')\n",
        "plt.ylabel('Número de registros')\n",
        "plt.xticks(rotation=45)\n",
        "plt.show()\n",
        "\n",
        "# Imprimimos el recuento de cada actividad\n",
        "print(\"Cantidad de registros por actividad en el set de entrenamiento:\")\n",
        "print(activity_counts)\n"
      ],
      "metadata": {
        "colab": {
          "base_uri": "https://localhost:8080/",
          "height": 989
        },
        "id": "pm2xqd3UHvUB",
        "outputId": "09b98e69-0c1f-4d50-fff9-6af77e0ebee4"
      },
      "execution_count": 3,
      "outputs": [
        {
          "output_type": "stream",
          "name": "stdout",
          "text": [
            "Cantidad de registros por actividad en el set de entrenamiento:\n",
            "Activity\n",
            "LAYING                926\n",
            "STANDING              908\n",
            "SITTING               849\n",
            "WALKING               811\n",
            "WALKING_UPSTAIRS      686\n",
            "WALKING_DOWNSTAIRS    624\n",
            "Name: count, dtype: int64\n"
          ]
        },
        {
          "output_type": "display_data",
          "data": {
            "text/plain": [
              "<Figure size 1000x600 with 1 Axes>"
            ],
            "image/png": "[encoded data removed]"
          },
          "metadata": {}
        },
        {
          "output_type": "stream",
          "name": "stdout",
          "text": [
            "Cantidad de registros por actividad en el set de entrenamiento:\n",
            "Activity\n",
            "LAYING                926\n",
            "STANDING              908\n",
            "SITTING               849\n",
            "WALKING               811\n",
            "WALKING_UPSTAIRS      686\n",
            "WALKING_DOWNSTAIRS    624\n",
            "Name: count, dtype: int64\n"
          ]
        }
      ]
    },
    {
      "cell_type": "markdown",
      "source": [
        "c) Defina X_train y X_test como corresponda (omitiendo las variables que no\n",
        "corresponden a variables predictoras)."
      ],
      "metadata": {
        "id": "L2ZxsMqTe64K"
      }
    },
    {
      "cell_type": "code",
      "source": [
        "# Definimos X_train y X_test, omitiendo variables no correspondientes\n",
        "X_train = train_data.drop(columns=['Activity', 'subject'])\n",
        "X_test = test_data.drop(columns=['Activity', 'subject'])\n",
        "print('Tamaño dataset X_train y X_test:')\n",
        "print(X_train.shape, X_test.shape,'\\n')\n"
      ],
      "metadata": {
        "colab": {
          "base_uri": "https://localhost:8080/"
        },
        "id": "BxRSytjxH0OU",
        "outputId": "67239d43-8ceb-42a4-f266-3c2414ed983e"
      },
      "execution_count": 16,
      "outputs": [
        {
          "output_type": "stream",
          "name": "stdout",
          "text": [
            "Tamaño dataset X_train y X_test:\n",
            "(4805, 561) (2947, 561) \n",
            "\n"
          ]
        }
      ]
    },
    {
      "cell_type": "markdown",
      "source": [
        "d) Estandarice el set de features de entrenamiento y prueba. Recuerde que\n",
        "puede utilizar la función vista en clases StandardScaler:\n",
        "from sklearn.preprocessing import StandardScaler\n",
        "x_stand = StandardScaler().fit_transform(x)"
      ],
      "metadata": {
        "id": "QhKBuDpLfPW-"
      }
    },
    {
      "cell_type": "code",
      "source": [
        "# Crear el estandarizador\n",
        "scaler = StandardScaler()\n",
        "\n",
        "# Ajustar el estandarizador con los datos de entrenamiento y transformarlos\n",
        "X_train_scaled = scaler.fit_transform(X_train) # usa fit_transform() para obtener mu y sigma\n",
        "\n",
        "# Transformar los datos de prueba con el estandarizador ajustado con los datos de entrenamiento\n",
        "X_test_scaled = scaler.transform(X_test) # transform() solo porque ya tenemos mu y sigma"
      ],
      "metadata": {
        "id": "L0OpLgCcIDKy"
      },
      "execution_count": 38,
      "outputs": []
    },
    {
      "cell_type": "markdown",
      "source": [
        "e) Defina y_train e y_test como corresponda (recuerde que debe estar\n",
        "codificada numéricamente). Para recodificar un vector o columna y de varias\n",
        "categorías a formato numérico puede utilizar:\n",
        "\n",
        "• from sklearn import preprocessing\n",
        "\n",
        "• encoder=preprocessing.LabelEncoder().fit(y)\n",
        "\n",
        "• y_new=encodertrain.transform(y)"
      ],
      "metadata": {
        "id": "M4KR-LfRfn3M"
      }
    },
    {
      "cell_type": "code",
      "source": [
        "# Crear el codificador\n",
        "encoder = LabelEncoder()\n",
        "\n",
        "y_train = encoder.fit_transform(train_data['Activity']) # usa fit_transform() para obtener mu y sigma\n",
        "y_test = encoder.transform(test_data['Activity']) # transform() solo porque ya tenemos mu y sigma\n",
        "print('Tamaño dataset y_train y y_test:')\n",
        "print(y_train.shape, y_test.shape,'\\n')\n"
      ],
      "metadata": {
        "colab": {
          "base_uri": "https://localhost:8080/"
        },
        "id": "dVFDHCnwIIQe",
        "outputId": "25fa40a2-eec5-493c-9cc6-675d0fa63260"
      },
      "execution_count": 35,
      "outputs": [
        {
          "output_type": "stream",
          "name": "stdout",
          "text": [
            "Tamaño dataset y_train y y_test:\n",
            "(4805,) (2947,) \n",
            "\n"
          ]
        }
      ]
    },
    {
      "cell_type": "markdown",
      "source": [
        "f) Defina un diccionario con las opciones de:\n",
        "\n",
        "• El kernel se mueva entre linear o rbf\n",
        "\n",
        "• El C se mueva entre los valores 10 y 15"
      ],
      "metadata": {
        "id": "SLbWuAAOgN4N"
      }
    },
    {
      "cell_type": "code",
      "source": [
        "# Ahora vamos a implentar 1. los hiperparametros del modelo (kernel, regularizacion)\n",
        "# kernel como SVM separa los datos\n",
        "# regularizacion uno de los metodos de como evitar sobreajuste (l2)\n",
        "\n",
        "param_grid = {'kernel': ['linear', 'rbf'],\n",
        "              'C': [10, 15]}\n",
        "# Kernels: kernel{‘linear’, ‘poly’, ‘rbf’, ‘sigmoid’, ‘precomputed’} or callable, default=’rbf’\n",
        "# 'C' > 0 parametro de regularizacion, evitar sobreajuste(overfitting) penalty tipo 'l2'.\n",
        "print(param_grid)\n"
      ],
      "metadata": {
        "colab": {
          "base_uri": "https://localhost:8080/"
        },
        "id": "iU9QgZ8zIMvy",
        "outputId": "2e394dfb-692c-4061-e006-012f5b53d59e"
      },
      "execution_count": 39,
      "outputs": [
        {
          "output_type": "stream",
          "name": "stdout",
          "text": [
            "{'kernel': ['linear', 'rbf'], 'C': [10, 15]}\n"
          ]
        }
      ]
    },
    {
      "cell_type": "markdown",
      "source": [
        "g) Utilice la función GridSearchCV para realizar 10 validaciones cruzadas con\n",
        "la lista de parámetros definida anteriormente. Determine la mejor\n",
        "combinación de parámetros y obtenga el modelo con dichos parámetros."
      ],
      "metadata": {
        "id": "tVjdBgHggcJt"
      }
    },
    {
      "cell_type": "code",
      "source": [
        "#Se usa la imputación de valores faltantes,\n",
        "#para reemplazar los valores faltantes (NaN) con la media de la columna\n",
        "from sklearn.impute import SimpleImputer\n",
        "\n",
        "# Crear un imputador\n",
        "imputer = SimpleImputer(strategy='mean')\n",
        "\n",
        "# Aplicar el imputador a tus datos de entrenamiento\n",
        "X_train_imputed = imputer.fit_transform(X_train_scaled)"
      ],
      "metadata": {
        "id": "HaD9MlwzcGuc"
      },
      "execution_count": 24,
      "outputs": []
    },
    {
      "cell_type": "code",
      "source": [
        "svm_model = SVC() #https://scikit-learn.org/stable/modules/generated/sklearn.svm.SVC.html\n",
        "\n",
        "# Crear una instancia de GridSearchCV\n",
        "grid_search = GridSearchCV(svm_model, param_grid, cv=10)  #GridSearchRandomized()\n",
        "\n",
        "# Ajustar GridSearchCV a los datos de entrenamiento\n",
        "grid_search.fit(X_train_imputed, y_train)\n",
        "\n",
        "# Obtener la mejor combinación de parámetros\n",
        "best_params = grid_search.best_params_\n",
        "\n",
        "print('Los mejores parametros del modelo estan dados por:')\n",
        "print(best_params,'\\n')\n",
        "best_model = grid_search.best_estimator_\n",
        "print(best_model,'\\n')\n"
      ],
      "metadata": {
        "colab": {
          "base_uri": "https://localhost:8080/"
        },
        "id": "NC9mtIilIRYI",
        "outputId": "51b01362-3e25-4250-9bde-13d9c4006754"
      },
      "execution_count": 37,
      "outputs": [
        {
          "output_type": "stream",
          "name": "stderr",
          "text": [
            "/usr/local/lib/python3.10/dist-packages/sklearn/model_selection/_split.py:700: UserWarning: The least populated class in y has only 1 members, which is less than n_splits=10.\n",
            "  warnings.warn(\n"
          ]
        },
        {
          "output_type": "stream",
          "name": "stdout",
          "text": [
            "Los mejores parametros del modelo estan dados por:\n",
            "{'C': 10, 'kernel': 'rbf'} \n",
            "\n",
            "SVC(C=10) \n",
            "\n"
          ]
        }
      ]
    },
    {
      "cell_type": "markdown",
      "source": [
        "h) ¿Cómo es la capacidad predictiva de este modelo en el set de prueba?\n",
        "Comente."
      ],
      "metadata": {
        "id": "zE_d2eN6hDvR"
      }
    },
    {
      "cell_type": "code",
      "source": [
        "accuracy = best_model.score(X_test_scaled, y_test)\n",
        "print(\"Exactitud del modelo en el set de prueba:\", accuracy)"
      ],
      "metadata": {
        "colab": {
          "base_uri": "https://localhost:8080/"
        },
        "id": "ogyWtQBQcfNt",
        "outputId": "315aa044-c0be-4c4e-c5f0-25cd01b2f41c"
      },
      "execution_count": 27,
      "outputs": [
        {
          "output_type": "stream",
          "name": "stdout",
          "text": [
            "Exactitud del modelo en el set de prueba: 0.9467254835425857\n"
          ]
        }
      ]
    },
    {
      "cell_type": "markdown",
      "source": [
        "La precisión obtenida es aproximadamente 0.94, lo que indica un buen rendimiento del modelo en la clasificación"
      ],
      "metadata": {
        "id": "s2thJ1HbhKSw"
      }
    }
  ]
}