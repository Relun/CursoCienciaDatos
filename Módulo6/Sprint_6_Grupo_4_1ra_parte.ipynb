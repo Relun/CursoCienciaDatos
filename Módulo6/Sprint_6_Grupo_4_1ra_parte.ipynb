{
  "nbformat": 4,
  "nbformat_minor": 0,
  "metadata": {
    "colab": {
      "provenance": []
    },
    "kernelspec": {
      "name": "python3",
      "display_name": "Python 3"
    },
    "language_info": {
      "name": "python"
    }
  },
  "cells": [
    {
      "cell_type": "markdown",
      "source": [
        "## Grupo 4\n",
        "\n",
        "*   Alex Riquelme\n",
        "*   Camila Aguilar\n",
        "*   Camila Varas\n",
        "*   Claudia Araya\n",
        "*   Fabián Cuevas"
      ],
      "metadata": {
        "id": "XHVWcStPkAlK"
      }
    },
    {
      "cell_type": "code",
      "execution_count": null,
      "metadata": {
        "colab": {
          "base_uri": "https://localhost:8080/"
        },
        "id": "fbhYMgeG8_qH",
        "outputId": "a7585b29-f94a-4913-9fe9-a36eaadd4826"
      },
      "outputs": [
        {
          "output_type": "stream",
          "name": "stdout",
          "text": [
            "Clusters en la primera iteración: [2 1 2 1 2 1 1 2]\n",
            "Nuevos centroides después de la primera iteración:\n",
            "C1: [41.25 51.   35.5 ]\n",
            "C2: [35.   40.   67.75]\n",
            "\n",
            "Clusters en la segunda iteración: [2 1 2 2 2 1 1 2]\n",
            "Nuevos centroides después de la segunda iteración:\n",
            "C1: [52.         51.33333333 28.33333333]\n",
            "C2: [29.8 42.  65.6]\n",
            "\n",
            "Clusters en la tercera iteración: [2 1 2 2 2 1 1 2]\n",
            "Nuevos centroides después de la tercera iteración:\n",
            "C1: [52.         51.33333333 28.33333333]\n",
            "C2: [29.8 42.  65.6]\n"
          ]
        }
      ],
      "source": [
        "import numpy as np\n",
        "\n",
        "# Observaciones\n",
        "X = np.array([[10, 8, 34, 9, 46, 68, 80, 50],\n",
        "              [4, 99, 44, 50, 77, 30, 25, 35],\n",
        "              [50, 31, 86, 57, 75, 14, 40, 60]])\n",
        "\n",
        "# Centroides iniciales\n",
        "C1 = np.array([47.5, 37.5, 21.8])\n",
        "C2 = np.array([53.2, 22.4, 75.3])\n",
        "\n",
        "# Función para calcular la distancia euclidiana entre dos puntos\n",
        "def distancia(p1, p2):\n",
        "    return np.sqrt(np.sum((p1 - p2)**2))\n",
        "\n",
        "# Función para asignar puntos a los clusters\n",
        "def asignar_clusters(X, C1, C2):\n",
        "    clusters = []\n",
        "    for i in range(X.shape[1]):\n",
        "        x = X[:, i]\n",
        "        d1 = distancia(x, C1)\n",
        "        d2 = distancia(x, C2)\n",
        "        cluster = 1 if d1 < d2 else 2\n",
        "        clusters.append(cluster)\n",
        "    return np.array(clusters)\n",
        "\n",
        "# Función para actualizar los centroides\n",
        "def actualizar_centroides(X, clusters):\n",
        "    cluster1_indices = np.where(clusters == 1)[0]\n",
        "    cluster2_indices = np.where(clusters == 2)[0]\n",
        "    C1_nuevo = np.mean(X[:, cluster1_indices], axis=1)\n",
        "    C2_nuevo = np.mean(X[:, cluster2_indices], axis=1)\n",
        "    return C1_nuevo, C2_nuevo\n",
        "\n",
        "# Primera iteración\n",
        "clusters = asignar_clusters(X, C1, C2)\n",
        "print(\"Clusters en la primera iteración:\", clusters)\n",
        "\n",
        "C1, C2 = actualizar_centroides(X, clusters)\n",
        "print(\"Nuevos centroides después de la primera iteración:\")\n",
        "print(\"C1:\", C1)\n",
        "print(\"C2:\", C2)\n",
        "\n",
        "# Segunda iteración\n",
        "clusters = asignar_clusters(X, C1, C2)\n",
        "print(\"\\nClusters en la segunda iteración:\", clusters)\n",
        "\n",
        "C1, C2 = actualizar_centroides(X, clusters)\n",
        "print(\"Nuevos centroides después de la segunda iteración:\")\n",
        "print(\"C1:\", C1)\n",
        "print(\"C2:\", C2)\n",
        "\n",
        "# Tercera iteración\n",
        "clusters = asignar_clusters(X, C1, C2)\n",
        "print(\"\\nClusters en la tercera iteración:\", clusters)\n",
        "\n",
        "C1, C2 = actualizar_centroides(X, clusters)\n",
        "print(\"Nuevos centroides después de la tercera iteración:\")\n",
        "print(\"C1:\", C1)\n",
        "print(\"C2:\", C2)"
      ]
    }
  ]
}