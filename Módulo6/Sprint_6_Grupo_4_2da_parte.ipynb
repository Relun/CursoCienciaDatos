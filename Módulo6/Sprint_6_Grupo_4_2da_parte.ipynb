{
  "nbformat": 4,
  "nbformat_minor": 0,
  "metadata": {
    "colab": {
      "provenance": []
    },
    "kernelspec": {
      "name": "python3",
      "display_name": "Python 3"
    },
    "language_info": {
      "name": "python"
    }
  },
  "cells": [
    {
      "cell_type": "markdown",
      "source": [
        "## Grupo 4\n",
        "\n",
        "*   Alex Riquelme\n",
        "*   Camila Aguilar\n",
        "*   Camila Varas\n",
        "*   Claudia Araya\n",
        "*   Fabián Cuevas"
      ],
      "metadata": {
        "id": "rtmJ8lMAkLII"
      }
    },
    {
      "cell_type": "markdown",
      "source": [
        "#Parte II\n",
        "\n",
        "Suponga que tenemos una empresa, cuya área de marketing, desea generar\n",
        "una clusterización para poder tener mayor éxito con sus campañas. Para esto\n",
        "nos entregó una base de datos (llamada evaluación_mkt_campaign.csv) que\n",
        "contiene los siguientes campos:\n",
        "1. ID: Identificador único de cliente\n",
        "2. Age: Edad del cliente\n",
        "3. Seniority: Días desde el enrolamiento del cliente\n",
        "4. Children: Número hijos\n",
        "5. Ingreso: Ingreso anual del cliente\n",
        "6. Recency: Días desde la última compra del cliente\n",
        "7. MntWines: Gasto en vino en los últimos 2 años\n",
        "8. MntFruits: Gasto en fruta en los últimos 2 años\n",
        "9. MntMeatProducts: Gasto en carne en los últimos 2 años\n",
        "10. MntFishProducts: Gasto en pescado en los últimos 2 años\n",
        "11. MntSweetProducts: Gasto en dulces en los últimos 2 años\n",
        "12. MntGoldProds: Gasto en oro en los últimos 2 años\n",
        "13. NumDealsPurchases: Número de compras realizada bajo descuento\n",
        "14. NumWebPurchases: Número de compras realizadas por la web\n",
        "15. NumCatalogPurchases: Número de compras realizadas por catálogo\n",
        "16. NumStorePurchases: Número de compras realizadas en la tienda\n",
        "17. NumWebVisitsMonth: Número de visitas a la página web\n",
        "\n",
        "En base a estos datos, realice lo siguiente:\n",
        "\n",
        "**Búsqueda de Anomalías:** Usando las columnas de comportamiento de compra, encuentre registros anómalos correspondientes al 5% de la muestra,\n",
        "y descártelos.\n",
        "\n",
        "**Feature Extraction:** Usando los datos filtrados reduzca el número de variables. Busque una representación que le permita explicar un 90% de la varianza original de los datos.\n",
        "\n",
        "**Clustering:**\n",
        "\n",
        "a) Usando los resultados anteriores clusterice el comportamiento de sus\n",
        "clientes. El área de marketing solicitó que el número de clusters sea no\n",
        "mayor a 8. Encuentre el número óptimo de clusters considerando esa\n",
        "restricción\n",
        "\n",
        "b) Reporte los centroides de cada cluster en términos de las variables\n",
        "originales. Interprete."
      ],
      "metadata": {
        "id": "MI3oLG_qqK3w"
      }
    },
    {
      "cell_type": "code",
      "source": [
        "import pandas as pd\n",
        "from sklearn.ensemble import IsolationForest\n",
        "from sklearn.decomposition import PCA\n",
        "from sklearn.preprocessing import StandardScaler\n",
        "from sklearn.cluster import KMeans\n",
        "import numpy as np\n",
        "import matplotlib.pyplot as plt"
      ],
      "metadata": {
        "id": "QZTnitgSp6Mg"
      },
      "execution_count": 1,
      "outputs": []
    },
    {
      "cell_type": "code",
      "source": [
        "# Paso 1: Realizamos una Búsqueda de Anomalías\n",
        "data = pd.read_csv(\"/content/sample_data/evaluacion_mkt_campaign.csv\")\n",
        "\n",
        "behavior_columns = ['Recency', 'MntWines', 'MntMeatProducts', 'MntFishProducts',\n",
        "                    'MntSweetProducts', 'MntGoldProds', 'NumDealsPurchases',\n",
        "                    'NumWebPurchases', 'NumCatalogPurchases', 'NumStorePurchases',\n",
        "                    'NumWebVisitsMonth']\n",
        "\n",
        "anomaly_detector = IsolationForest(contamination=0.05)\n",
        "\n",
        "data['anomaly'] = anomaly_detector.fit_predict(data[behavior_columns])\n",
        "\n",
        "filtered_data = data[data['anomaly'] == 1].copy()"
      ],
      "metadata": {
        "id": "p7koFaeJp8Uf",
        "outputId": "b1d919ff-c6c1-4fc4-d023-4996a6314855",
        "colab": {
          "base_uri": "https://localhost:8080/"
        }
      },
      "execution_count": 2,
      "outputs": [
        {
          "output_type": "stream",
          "name": "stderr",
          "text": [
            "/usr/local/lib/python3.10/dist-packages/sklearn/base.py:439: UserWarning: X does not have valid feature names, but IsolationForest was fitted with feature names\n",
            "  warnings.warn(\n"
          ]
        }
      ]
    },
    {
      "cell_type": "code",
      "source": [
        "# Paso 2: Realizamos Feature Extraction\n",
        "\n",
        "scaler = StandardScaler()\n",
        "scaled_data = scaler.fit_transform(filtered_data[behavior_columns])\n",
        "pca = PCA(n_components=0.9)\n",
        "pca_data = pca.fit_transform(scaled_data)"
      ],
      "metadata": {
        "id": "PYt9bfyJp_hH"
      },
      "execution_count": 3,
      "outputs": []
    },
    {
      "cell_type": "code",
      "source": [
        "# Paso 3: Realizamos Clustering\n",
        "\n",
        "max_clusters = 8\n",
        "inertia = []\n",
        "for n_clusters in range(1, max_clusters+1):\n",
        "    kmeans = KMeans(n_clusters=n_clusters)\n",
        "    kmeans.fit(pca_data)\n",
        "    inertia.append(kmeans.inertia_)"
      ],
      "metadata": {
        "id": "66KhjkYyqBq4",
        "outputId": "b15cfa5c-6c4c-41d3-d7aa-681688e11403",
        "colab": {
          "base_uri": "https://localhost:8080/"
        }
      },
      "execution_count": 4,
      "outputs": [
        {
          "output_type": "stream",
          "name": "stderr",
          "text": [
            "/usr/local/lib/python3.10/dist-packages/sklearn/cluster/_kmeans.py:870: FutureWarning: The default value of `n_init` will change from 10 to 'auto' in 1.4. Set the value of `n_init` explicitly to suppress the warning\n",
            "  warnings.warn(\n",
            "/usr/local/lib/python3.10/dist-packages/sklearn/cluster/_kmeans.py:870: FutureWarning: The default value of `n_init` will change from 10 to 'auto' in 1.4. Set the value of `n_init` explicitly to suppress the warning\n",
            "  warnings.warn(\n",
            "/usr/local/lib/python3.10/dist-packages/sklearn/cluster/_kmeans.py:870: FutureWarning: The default value of `n_init` will change from 10 to 'auto' in 1.4. Set the value of `n_init` explicitly to suppress the warning\n",
            "  warnings.warn(\n",
            "/usr/local/lib/python3.10/dist-packages/sklearn/cluster/_kmeans.py:870: FutureWarning: The default value of `n_init` will change from 10 to 'auto' in 1.4. Set the value of `n_init` explicitly to suppress the warning\n",
            "  warnings.warn(\n",
            "/usr/local/lib/python3.10/dist-packages/sklearn/cluster/_kmeans.py:870: FutureWarning: The default value of `n_init` will change from 10 to 'auto' in 1.4. Set the value of `n_init` explicitly to suppress the warning\n",
            "  warnings.warn(\n",
            "/usr/local/lib/python3.10/dist-packages/sklearn/cluster/_kmeans.py:870: FutureWarning: The default value of `n_init` will change from 10 to 'auto' in 1.4. Set the value of `n_init` explicitly to suppress the warning\n",
            "  warnings.warn(\n",
            "/usr/local/lib/python3.10/dist-packages/sklearn/cluster/_kmeans.py:870: FutureWarning: The default value of `n_init` will change from 10 to 'auto' in 1.4. Set the value of `n_init` explicitly to suppress the warning\n",
            "  warnings.warn(\n",
            "/usr/local/lib/python3.10/dist-packages/sklearn/cluster/_kmeans.py:870: FutureWarning: The default value of `n_init` will change from 10 to 'auto' in 1.4. Set the value of `n_init` explicitly to suppress the warning\n",
            "  warnings.warn(\n"
          ]
        }
      ]
    },
    {
      "cell_type": "code",
      "source": [
        "# Ploteamos la curva de codo\n",
        "\n",
        "plt.plot(range(1, max_clusters+1), inertia, marker='o')\n",
        "plt.xlabel('Número de Clusters')\n",
        "plt.ylabel('Inertia')\n",
        "plt.title('Curva de Codo')\n",
        "plt.show()"
      ],
      "metadata": {
        "id": "FGQugcf9qDgP",
        "outputId": "d487e8a7-a878-40b0-f055-4cad733444dd",
        "colab": {
          "base_uri": "https://localhost:8080/",
          "height": 472
        }
      },
      "execution_count": 5,
      "outputs": [
        {
          "output_type": "display_data",
          "data": {
            "text/plain": [
              "<Figure size 640x480 with 1 Axes>"
            ],
            "image/png": "[encoded data removed]"
          },
          "metadata": {}
        }
      ]
    },
    {
      "cell_type": "code",
      "source": [
        "# Elegimos el número óptimo de clusters\n",
        "\n",
        "optimal_clusters = 3"
      ],
      "metadata": {
        "id": "hFwVScs0qFMP"
      },
      "execution_count": 6,
      "outputs": []
    },
    {
      "cell_type": "code",
      "source": [
        "# Efectuamos la Clusterización con el número óptimo de clusters\n",
        "\n",
        "kmeans = KMeans(n_clusters=optimal_clusters)\n",
        "kmeans.fit(pca_data)\n",
        "cluster_labels = kmeans.labels_"
      ],
      "metadata": {
        "id": "l-ocn9tHqGm3",
        "outputId": "c9f940e8-b76a-475f-c65b-60057806bce3",
        "colab": {
          "base_uri": "https://localhost:8080/"
        }
      },
      "execution_count": 7,
      "outputs": [
        {
          "output_type": "stream",
          "name": "stderr",
          "text": [
            "/usr/local/lib/python3.10/dist-packages/sklearn/cluster/_kmeans.py:870: FutureWarning: The default value of `n_init` will change from 10 to 'auto' in 1.4. Set the value of `n_init` explicitly to suppress the warning\n",
            "  warnings.warn(\n"
          ]
        }
      ]
    },
    {
      "cell_type": "code",
      "source": [
        "# Calculamos los centroides de cada cluster en términos de las variables originales\n",
        "\n",
        "centroides = scaler.inverse_transform(pca.inverse_transform(kmeans.cluster_centers_))"
      ],
      "metadata": {
        "id": "uyR5ydocqI6_"
      },
      "execution_count": 8,
      "outputs": []
    },
    {
      "cell_type": "code",
      "execution_count": 11,
      "metadata": {
        "id": "fbhYMgeG8_qH",
        "outputId": "fdd76992-fa09-4a3c-e530-2c9155893c7d",
        "colab": {
          "base_uri": "https://localhost:8080/"
        }
      },
      "outputs": [
        {
          "output_type": "stream",
          "name": "stdout",
          "text": [
            "Centroides de cada cluster en términos de las variables originales:\n",
            "     Recency    MntWines  MntMeatProducts  MntFishProducts  MntSweetProducts  \\\n",
            "0  48.277332  435.007861       122.231949        22.485166         16.418997   \n",
            "1  50.151211  585.645490       408.440999        92.103129         67.612021   \n",
            "2  49.104912   38.369073        22.387062         7.219777          5.170351   \n",
            "\n",
            "   MntGoldProds  NumDealsPurchases  NumWebPurchases  NumCatalogPurchases  \\\n",
            "0     55.338335           3.962377         6.214737             2.727079   \n",
            "1     68.434435           1.384461         5.292488             5.671380   \n",
            "2     14.222002           1.863125         2.050076             0.527710   \n",
            "\n",
            "   NumStorePurchases  NumWebVisitsMonth  \n",
            "0           7.404412           6.312197  \n",
            "1           8.488313           2.865179  \n",
            "2           3.216165           6.246235  \n"
          ]
        }
      ],
      "source": [
        "# Mostramos los centroides\n",
        "\n",
        "centroides_df = pd.DataFrame(centroides, columns=behavior_columns)\n",
        "\n",
        "print(\"Centroides de cada cluster en términos de las variables originales:\")\n",
        "\n",
        "print(centroides_df)"
      ]
    }
  ]
}